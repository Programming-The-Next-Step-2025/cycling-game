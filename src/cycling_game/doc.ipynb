{
 "cells": [
  {
   "cell_type": "markdown",
   "id": "e4082d7a",
   "metadata": {},
   "source": [
    "## Title: Tourist Bowling\n",
    "This game is meant as a little side-scroller-like game, in which the goal is to break the highscore. You get points by surviving as long as possible, by managing to avoid the different obstacles during a run."
   ]
  },
  {
   "cell_type": "markdown",
   "id": "fc817cc9",
   "metadata": {},
   "source": [
    "## Gameplay\n",
    "The mechanics of this game are fairly simple, you press the UP-arrow to navigate the player upwards and the DOWN-arrow, to navigate downwards. Horizontal movement is automatic and will get faster, the further you progress in the game (i.e. the higher your score is).\n",
    "You lose the game (game over) when the player hits any of the obstacles. (see below)"
   ]
  },
  {
   "cell_type": "markdown",
   "id": "c7e0e367",
   "metadata": {
    "vscode": {
     "languageId": "plaintext"
    }
   },
   "source": [
    "# Game Sprites\n",
    "(Pictures to be inserted)\n",
    "\n",
    "The Potholes:\n",
    "/Insert Picture\n",
    "\n",
    "Construction Site:\n",
    "/Insert picture\n",
    "\n",
    "Tourists:\n",
    "/Insert picture\n",
    "\n",
    "Player:\n",
    "/Insert picture\n",
    "\n"
   ]
  }
 ],
 "metadata": {
  "language_info": {
   "name": "python"
  }
 },
 "nbformat": 4,
 "nbformat_minor": 5
}

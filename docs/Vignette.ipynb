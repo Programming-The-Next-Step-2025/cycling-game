{
 "cells": [
  {
   "cell_type": "markdown",
   "id": "e4082d7a",
   "metadata": {},
   "source": [
    "# Tourist Bowling - A Pygame Side-Scroller\n",
    "This game is an endless runner in a side-scroller-like format, in which the goal is to break the highscore. You get points by surviving as long as possible, and managing to avoid the different obstacles during a run."
   ]
  },
  {
   "cell_type": "markdown",
   "id": "ad5f613b",
   "metadata": {},
   "source": [
    "When starting the game (see installation process below) you are introduced to the homescreen.\n",
    "To start the game you have to press \"SPACE\", as indicated on the screen.\n",
    "\n",
    "<img src=\"../src/cycling_game/Resources/Images/home_screen.png\" width = \"500\">"
   ]
  },
  {
   "cell_type": "markdown",
   "id": "36ea37ee",
   "metadata": {},
   "source": []
  },
  {
   "cell_type": "markdown",
   "id": "fc817cc9",
   "metadata": {},
   "source": [
    "## Gameplay\n",
    "The mechanics of this game are fairly simple, you press the UP-arrow to navigate the player upwards and the DOWN-arrow, to navigate downwards. Horizontal movement is automatic and will get faster, the further you progress in the game (i.e. the higher your score is). Obstacles will also spawn closer together, the further you get in the game and harder obstacles will spawn with higher frequency (i.e. the local)\n",
    "You lose the game (game over) when the player hits any of the obstacles. (see below)"
   ]
  },
  {
   "cell_type": "markdown",
   "id": "9fd9760e",
   "metadata": {
    "vscode": {
     "languageId": "plaintext"
    }
   },
   "source": [
    "## The Lanes  \n",
    "These are the three lanes (i.e. the two bike-lanes and the sidewalk) between which you can switch and on which obstacles will spawn.  \n",
    "Obstacles will never cross the lanes.\n",
    "\n",
    "<img src=\"../src/cycling_game/Resources/Images/back.png\">\n"
   ]
  },
  {
   "cell_type": "markdown",
   "id": "c7e0e367",
   "metadata": {
    "vscode": {
     "languageId": "plaintext"
    }
   },
   "source": [
    "## The Obstacles:\n",
    "\n",
    "### The Pothole  \n",
    "The pothole is the most common obstacle and will spawn on either one of the two bike-lanes\n",
    "\n",
    "<img src=\"../src/cycling_game/Resources/Images/obstacle_rm.png\" width = \"150\">\n",
    "\n",
    "\n",
    "### Construction Site\n",
    "\n",
    "The construction site is a stationary obstacle and can only spawn on the bikelane.  \n",
    "It is the only obstacle that covers two lanes.  \n",
    "While in the gamecode, the construction site is currently not being spawned, as there  \n",
    "can be instances when all lanes are blocked due to the random spawning.  \n",
    "Construction Site will be back as soons as the spawn system is tweaked (see planned features below).  \n",
    "\n",
    "<img src=\"../src/cycling_game/Resources/Images/construction.png\" width = \"150\">\n",
    "\n",
    "### Tourist  \n",
    "The tourist only spawns on the sidewalk and the right side of the screen and moves towards the left side of the screen.  \n",
    "The tourist will die when being hit by the escooter\n",
    "\n",
    "<img src=\"../src/cycling_game/Resources/Images/tourist.png\" width = \"150\">\n",
    "\n",
    "### E-biker \n",
    "The E-biker is the hardest obstacle in the game and is most likely to spawn when a lane (i.e the two bikepaths) is free.  \n",
    "It will never spawn on the sidewalk.  \n",
    "It can either spawn on the left or right side of the screen and moves faster when spawning on the left side of the screen  \n",
    "The E-biker will also die when hitting an obstacle other than the player\n",
    "\n",
    "<img src=\"../src/cycling_game/Resources/Images/Local.png\" width = \"150\">\n",
    "\n",
    "### Escooter\n",
    "The escooter will spawn on the right side of the screen and will always move to the left side (towards the player) and will always spawn on the sidewalk  \n",
    "The E-scooter will die when colliding with the bikestand but not with the tourist\n",
    "\n",
    "<img src=\"../src/cycling_game/Resources/Images/escooter.png\" width = \"150\">\n",
    "\n",
    "### Bikestand  \n",
    "The bikestand is a stationary obstacle and only spawns on the sidewalk\n",
    "\n",
    "<img src=\"../src/cycling_game/Resources/Images/bikestand.png\" width = \"150\">"
   ]
  },
  {
   "cell_type": "markdown",
   "id": "ba3953c5",
   "metadata": {},
   "source": [
    "## Obstacle Spawning  \n",
    "All obstacles will be spawned with a delay from 600 - 800ms. That is more likely to be higher in the beginning of the game. All obstacles are spawned randomly, except the local, who is more likely to appear if a given lane is free of other obstacles.  "
   ]
  },
  {
   "cell_type": "markdown",
   "id": "d7da4a2d",
   "metadata": {},
   "source": [
    "## Game-Over  \n",
    "When the player hits any of the obstacles mentioned above, the game is over.  \n",
    "The Score will be displayed in the upper-right corner of the screen.  \n",
    "To restart the game, press SPACE again and the game will start immediately.\n",
    "\n",
    "<img src=\"../src/cycling_game/Resources/Images/game_over.png\" width = \"500\">"
   ]
  },
  {
   "cell_type": "markdown",
   "id": "3fed4c10",
   "metadata": {},
   "source": [
    "# Installing the Game\n",
    "\n",
    "The game-repository is available under:\n",
    "https://github.com/Programming-The-Next-Step-2025/cycling-game.git\n",
    "\n",
    "## Step-By-Step Installation\n",
    "### Step 0\n",
    "Clone the repository in your terminal with:"
   ]
  },
  {
   "cell_type": "markdown",
   "id": "369e3634",
   "metadata": {
    "vscode": {
     "languageId": "shellscript"
    }
   },
   "source": [
    "\n",
    "```bash\n",
    "git clone https://github.com/Programming-The-Next-Step-2025/cycling-game.git your_folder_name\n",
    "\n",
    "```\n"
   ]
  },
  {
   "cell_type": "markdown",
   "id": "72d0182b",
   "metadata": {},
   "source": [
    "Alternatively, you can clone the repository using GitHub Desktop:  \n",
    "\n",
    "<img src=\"../src/cycling_game/Resources/Images/cloning.png\" width = \"500\">\n",
    "\n",
    "<img src=\"../src/cycling_game/Resources/Images/cloning2.png\" width = \"500\">"
   ]
  },
  {
   "cell_type": "markdown",
   "id": "dddfb3e1",
   "metadata": {},
   "source": [
    "### Step 1 \n",
    "Once cloned, you can navigate to the directory you have created (e.g. cycling_game)  \n",
    "Next, navigate to the \"Executables\" folder and select the subfolder with the name of your operating system.  \n",
    "(GNU) Linux is not supported at this stage of development"
   ]
  },
  {
   "cell_type": "markdown",
   "id": "51b01d44",
   "metadata": {
    "vscode": {
     "languageId": "shellscript"
    }
   },
   "source": [
    "```bash\n",
    "cd path/to/your/game_directory/Executables/SELECT/YOUR/OS\n",
    "open Tourist_Bowling.app #.app only on MacOS; Select the .exe file when using Windows\n",
    "```"
   ]
  },
  {
   "cell_type": "markdown",
   "id": "32fd58cb",
   "metadata": {},
   "source": [
    "##### Bypassing the Gatekeeper on MacOS:\n",
    "To open the game.app file when the OS is complaining you have to:\n",
    "1. Go to System Settings --> Privacy & Security\n",
    "2. Scroll down to see a security message\n",
    "3. Click on Open anyways  \n",
    "\n",
    "<img src=\"../src/cycling_game/Resources/Images/security.png\" width = \"500\">"
   ]
  },
  {
   "cell_type": "markdown",
   "id": "1cdf0234",
   "metadata": {},
   "source": [
    "#### Bypassing the Firewall on Windows\n",
    "After opening the .exe file the firewall should complain and you should click on \"more information\" and \"open anyways\" (No screenshots can be provided for a lack of a Windows machine)."
   ]
  },
  {
   "cell_type": "markdown",
   "id": "d407a348",
   "metadata": {},
   "source": [
    "Alternatively, you can navigate to the game directory using your graphical user interface. Next, select the directory for your operating system and double-click (execute) the .app file on MacOS or the .exe file on Windows machines.  \n",
    "Should your operating system (OS) complain about the trustwhorthiness of the file, right-click on the file and select \"run as admin\" (Windows). Should this not be enough, try disabling the firewall for this. or \"Open\" (MacOS)  \n",
    "Please note that this game has been programmed and interpreted on MacOS and only partially tested on Windows. Should the .exe file not work please see manual installation process below.  \n",
    "Please note that due to a mistake when packaging the Windows .exe, the highscore system is not properly working on that OS. This will be fixed in the future!  \n",
    "Should you run into any issues, or want to report a bug, during the installation process you can reach the dev at felix_hofer@gmx.de (see README)"
   ]
  },
  {
   "cell_type": "markdown",
   "id": "08ac5a91",
   "metadata": {},
   "source": [
    "## Manual Installation (OS independent)\n",
    "In case you want to develop the game further, you can manually install the related package:  \n",
    "Please check the .toml or the README file for necessary dependencies!  \n",
    "It is recommended to create a new conda environment for this, to ensure all dependencies work with each other on the correct version.  \n",
    "Once you have cloned the repository, you can navigate to it and then install the package with:"
   ]
  },
  {
   "cell_type": "markdown",
   "id": "24aadd42",
   "metadata": {},
   "source": [
    "This part is optional if you want to create a virtual environment for this (adviced)  \n",
    "This part assumes you have conda installed\n",
    "```bash\n",
    "conda create --name cycling-env python=3.10\n",
    "conda activate cycling-env\n",
    "```"
   ]
  },
  {
   "cell_type": "markdown",
   "id": "717cbf2c",
   "metadata": {},
   "source": [
    "```bash\n",
    "cd path/to/your/game_directory\n",
    "pip install -e .\n",
    "pip install -r requirements.txt #Optional but adviced to ensure pygame installation\n",
    "```"
   ]
  },
  {
   "cell_type": "markdown",
   "id": "6ba4c709",
   "metadata": {},
   "source": [
    "This should install the package locally on your system. Next, you can navigate to:\n",
    "```bash\n",
    "cd src/cycling_game\n",
    "```\n",
    "And then run the game with:\n",
    "```bash\n",
    "python run.py\n",
    "```"
   ]
  },
  {
   "cell_type": "markdown",
   "id": "237a72df",
   "metadata": {},
   "source": [
    "# Running using the package function (IN DEVELOPMENT)\n",
    "This is a planned feature and as of now not fully functional!  \n",
    "After cloning and installing the package (see steps above),  \n",
    "It is possible to run the game by typing  \n",
    "```bash\n",
    "cycling_game_run\n",
    "``` \n",
    "in the terminal.  \n",
    "As of now this only works in the VS-Code (IDE) terminal because it automatically sets the python-path.\n",
    "In the general terminal, after installing you can try:\n",
    "```bash\n",
    "cycling_game_run\n",
    "```   \n",
    "Should this not work, make sure your working directory is set to the root of the game repository and try:\n",
    "\n",
    "```bash\n",
    "export PYTHONPATH=\"/Path/to/your/repository/cycling-game/src:$PYTHONPATH\" # MacOS ONLY!\n",
    "``` \n",
    "```bash\n",
    "set PYTHONPATH=C:\\Path\\to\\your\\repository\\cycling-game\\src;%PYTHONPATH% # Should work on Windows (cmd.exe only!)\n",
    "# Please note that this has not been tested on Windows yet!\n",
    "``` \n",
    "After this, you should be able to run the game with:\n",
    "```bash\n",
    "cycling_game_run\n",
    "``` \n",
    "Note, that the terminal has to stay open to run the game!\n"
   ]
  },
  {
   "cell_type": "markdown",
   "id": "0cb69f92",
   "metadata": {},
   "source": [
    "## Planned Features\n",
    "1. Power-up system\n",
    "2. Slow down mechanics (Hit the brakes for a short period to avoid moving obstacles)\n",
    "3. Pattern based obstacle spawning (instead of pseudorandom)  \n",
    "If you have any ideas for more content, please send me an e-mail or create a pull request."
   ]
  },
  {
   "cell_type": "markdown",
   "id": "fd7694d1",
   "metadata": {},
   "source": [
    "#### Contact\n",
    "You can reach the developer at felix_hofer@gmx.de  \n",
    "In case of any suggestions for future features, a pull request on the GitHub repository will me much appreaciated!"
   ]
  },
  {
   "cell_type": "markdown",
   "id": "7182fe96",
   "metadata": {},
   "source": [
    "# Have Fun Playing!"
   ]
  }
 ],
 "metadata": {
  "language_info": {
   "name": "python"
  }
 },
 "nbformat": 4,
 "nbformat_minor": 5
}
